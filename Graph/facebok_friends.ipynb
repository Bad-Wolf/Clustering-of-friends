{
 "cells": [
  {
   "cell_type": "code",
   "execution_count": null,
   "metadata": {},
   "outputs": [],
   "source": [
    "%matplotlib inline"
   ]
  },
  {
   "cell_type": "code",
   "execution_count": null,
   "metadata": {},
   "outputs": [],
   "source": [
    "import matplotlib.pyplot as plt\n",
    "import numpy as np\n",
    "import random\n",
    "import pandas as pd\n",
    "import re\n",
    "import networkx as nx\n",
    "from geopy.geocoders import Nominatim\n",
    "from pyvis.network import Network\n",
    "import requests\n",
    "\n",
    "from networkx.algorithms import community"
   ]
  },
  {
   "cell_type": "code",
   "execution_count": null,
   "metadata": {},
   "outputs": [],
   "source": [
    "with open(\"friends.txt\", encoding=\"UTF8\") as file:\n",
    "    friends = file.read()"
   ]
  },
  {
   "cell_type": "code",
   "execution_count": null,
   "metadata": {},
   "outputs": [],
   "source": [
    "nodes_list = re.findall(r'Node\\n\\n(.*)', friends)\n",
    "print('Count of nodes: ', len(nodes_list))\n",
    "assert len(nodes_list) == len(set(nodes_list)), 'Duplicates detected!'"
   ]
  },
  {
   "cell_type": "code",
   "execution_count": null,
   "metadata": {},
   "outputs": [],
   "source": [
    "splitted_friends = re.split(r'Node\\n\\n(.*)', friends)\n",
    "edge_dict = {}\n",
    "node = None\n",
    "for i in splitted_friends:\n",
    "    if splitted_friends.index(i) % 2 == 1:\n",
    "        node = i\n",
    "    else:\n",
    "        edge_dict[node] = i\n",
    "print('Count of elements in dict: ', len(edge_dict))"
   ]
  },
  {
   "cell_type": "code",
   "execution_count": null,
   "metadata": {},
   "outputs": [],
   "source": [
    "edge_frame = pd.DataFrame.from_dict(edge_dict, orient='index', columns=['target']).reset_index().rename(columns={\"index\": \"source\"})\n",
    "edge_frame.head()"
   ]
  },
  {
   "cell_type": "code",
   "execution_count": null,
   "metadata": {},
   "outputs": [],
   "source": [
    "edge_frame = edge_frame[1::]\n",
    "edge_frame.target = edge_frame.target.str.split('\\n\\n')\n",
    "edge_frame.head()"
   ]
  },
  {
   "cell_type": "code",
   "execution_count": null,
   "metadata": {},
   "outputs": [],
   "source": [
    "rows = list()\n",
    "for row in edge_frame[['source', 'target']].iterrows():\n",
    "    r = row[1]\n",
    "    for target in r.target:\n",
    "        rows.append((r.source, target))\n",
    "\n",
    "edge_frame = pd.DataFrame(rows, columns=['source', 'target'])\n",
    "edge_frame.head()"
   ]
  },
  {
   "cell_type": "code",
   "execution_count": null,
   "metadata": {},
   "outputs": [],
   "source": [
    "assert len(nodes_list) == len(edge_frame.source.unique()), 'Records missmatch!'"
   ]
  },
  {
   "cell_type": "code",
   "execution_count": null,
   "metadata": {},
   "outputs": [],
   "source": [
    "edge_frame = edge_frame[~edge_frame.target.isin(['', 'Edges', 'NA'])].reset_index(drop=True)\n",
    "edge_frame.head()"
   ]
  },
  {
   "cell_type": "code",
   "execution_count": null,
   "metadata": {},
   "outputs": [],
   "source": [
    "pattern = r'(?P<relationship>Add Friend|Friend\\nFriends|Friend Request Sent|Acquaintance\\nFriends)\\n\\\n",
    "(?P<target>.*)(?P<num_friends>\\n\\d*,?\\d*|\\n.*)?(?P<description>.*)?'"
   ]
  },
  {
   "cell_type": "code",
   "execution_count": null,
   "metadata": {},
   "outputs": [],
   "source": [
    "regex_frame = edge_frame.target.str.extractall(pattern).reset_index()\n",
    "regex_frame.tail()"
   ]
  },
  {
   "cell_type": "code",
   "execution_count": null,
   "metadata": {},
   "outputs": [],
   "source": [
    "missed_records = edge_frame[~edge_frame.index.isin(regex_frame.level_0)]\n",
    "missed_records.head()"
   ]
  },
  {
   "cell_type": "code",
   "execution_count": null,
   "metadata": {},
   "outputs": [],
   "source": [
    "missed_records.count()"
   ]
  },
  {
   "cell_type": "code",
   "execution_count": null,
   "metadata": {},
   "outputs": [],
   "source": [
    "miss_pattern = r'(?P<target>.*)\\n(?P<num_friends>\\d*,?\\d*|\\n.*)?(?P<description>.*)'\n",
    "missed_records = missed_records.target.str.extractall(miss_pattern).reset_index()\n",
    "missed_records.head()"
   ]
  },
  {
   "cell_type": "code",
   "execution_count": null,
   "metadata": {},
   "outputs": [],
   "source": [
    "combined_regex = pd.concat(objs=[regex_frame, missed_records], sort=False).reset_index(drop=True)"
   ]
  },
  {
   "cell_type": "code",
   "execution_count": null,
   "metadata": {},
   "outputs": [],
   "source": [
    "# how many we missed again\n",
    "edge_frame[~edge_frame.index.isin(combined_regex.level_0)]"
   ]
  },
  {
   "cell_type": "code",
   "execution_count": null,
   "metadata": {},
   "outputs": [],
   "source": [
    "# we remove ^ records\n",
    "edge_frame = edge_frame[edge_frame.index.isin(combined_regex.level_0)]\n",
    "edge_frame.tail()"
   ]
  },
  {
   "cell_type": "code",
   "execution_count": null,
   "metadata": {},
   "outputs": [],
   "source": [
    "edge_frame = combined_regex.join(other=edge_frame, on='level_0', rsuffix='2')\n",
    "edge_frame.head()"
   ]
  },
  {
   "cell_type": "code",
   "execution_count": null,
   "metadata": {},
   "outputs": [],
   "source": [
    "# drop unused columns\n",
    "edge_frame = edge_frame.reset_index(drop=True).drop(columns=['level_0', 'match', 'target2'])\n",
    "edge_frame.head()"
   ]
  },
  {
   "cell_type": "code",
   "execution_count": null,
   "metadata": {},
   "outputs": [],
   "source": [
    "# aesthetics\n",
    "edge_frame = edge_frame[['source', 'target', 'relationship', 'description', 'num_friends']]\n",
    "edge_frame.head()"
   ]
  },
  {
   "cell_type": "code",
   "execution_count": null,
   "metadata": {},
   "outputs": [],
   "source": [
    "print('NA values: \\n\\n', edge_frame.source.isna().value_counts(), '\\n\\n',\n",
    "      edge_frame.target.isna().value_counts(), '\\n\\n',\n",
    "      edge_frame.description.isna().value_counts(), '\\n\\n',\n",
    "      edge_frame.relationship.isna().value_counts())"
   ]
  },
  {
   "cell_type": "code",
   "execution_count": null,
   "metadata": {},
   "outputs": [],
   "source": [
    "edge_frame = edge_frame[~edge_frame.target.isna()]"
   ]
  },
  {
   "cell_type": "code",
   "execution_count": null,
   "metadata": {},
   "outputs": [],
   "source": [
    "edge_frame.description = edge_frame.description.fillna(' ')\n",
    "edge_frame.relationship = edge_frame.relationship.fillna(' ')"
   ]
  },
  {
   "cell_type": "code",
   "execution_count": null,
   "metadata": {},
   "outputs": [],
   "source": [
    "print('NA values: \\n\\n', edge_frame.source.isna().value_counts(), '\\n\\n',\n",
    "      edge_frame.target.isna().value_counts(), '\\n\\n',\n",
    "      edge_frame.description.isna().value_counts(), '\\n\\n',\n",
    "      edge_frame.relationship.isna().value_counts())"
   ]
  },
  {
   "cell_type": "code",
   "execution_count": null,
   "metadata": {},
   "outputs": [],
   "source": [
    "# Common names register as the same person\n",
    "edge_frame.target.value_counts().head(20)"
   ]
  },
  {
   "cell_type": "code",
   "execution_count": null,
   "metadata": {},
   "outputs": [],
   "source": [
    "len(edge_frame)"
   ]
  },
  {
   "cell_type": "code",
   "execution_count": null,
   "metadata": {},
   "outputs": [],
   "source": [
    "edge_frame = edge_frame.drop_duplicates(keep=False)"
   ]
  },
  {
   "cell_type": "code",
   "execution_count": null,
   "metadata": {},
   "outputs": [],
   "source": [
    "G = nx.from_pandas_edgelist(df=edge_frame, source='source', target='target')"
   ]
  },
  {
   "cell_type": "code",
   "execution_count": null,
   "metadata": {},
   "outputs": [],
   "source": [
    "G = nx.to_undirected(G)"
   ]
  },
  {
   "cell_type": "code",
   "execution_count": null,
   "metadata": {},
   "outputs": [],
   "source": [
    "nx.write_gexf(G, 'full_processed.gexf')"
   ]
  },
  {
   "cell_type": "code",
   "execution_count": null,
   "metadata": {},
   "outputs": [],
   "source": [
    "edge_frame_trimmed = edge_frame.copy()\n",
    "edge_frame_trimmed['target_count'] = pd.Series(edge_frame_trimmed.groupby('target').target.transform('count'))\n",
    "edge_frame_trimmed = edge_frame_trimmed[edge_frame_trimmed.target_count > 1]"
   ]
  },
  {
   "cell_type": "code",
   "execution_count": null,
   "metadata": {},
   "outputs": [],
   "source": [
    "G = nx.from_pandas_edgelist(df=edge_frame_trimmed, source='source', target='target')\n",
    "G = nx.to_undirected(G)\n",
    "nx.write_gexf(G, 'full_trimmed.gexf')"
   ]
  },
  {
   "cell_type": "code",
   "execution_count": null,
   "metadata": {},
   "outputs": [],
   "source": [
    "ego_frame = edge_frame.copy()\n",
    "ego_frame = ego_frame[ego_frame.target.isin(nodes_list)]"
   ]
  },
  {
   "cell_type": "code",
   "execution_count": null,
   "metadata": {},
   "outputs": [],
   "source": [
    "G = nx.from_pandas_edgelist(df=ego_frame, source='source', target='target')\n",
    "G = nx.to_undirected(G)\n",
    "nx.write_gexf(G, 'ego_graph.gexf')"
   ]
  },
  {
   "cell_type": "code",
   "execution_count": null,
   "metadata": {},
   "outputs": [],
   "source": [
    "# geolocator = Nominatim(user_agent=\"pavel2\", timeout=10)\n",
    "# geolocator.geocode('Софийски университет').address"
   ]
  },
  {
   "cell_type": "code",
   "execution_count": null,
   "metadata": {},
   "outputs": [],
   "source": []
  },
  {
   "cell_type": "code",
   "execution_count": null,
   "metadata": {},
   "outputs": [],
   "source": [
    "edge_frame.description = edge_frame.description.str.replace(r'.*at ', ' ')\n",
    "edge_frame.description = edge_frame.description.str.replace(' mutual friends', ' ')\n",
    "edge_frame.description = edge_frame.description.str.replace(' friends',  ' ')\n",
    "edge_frame.description = edge_frame.description.str.strip()"
   ]
  },
  {
   "cell_type": "code",
   "execution_count": null,
   "metadata": {},
   "outputs": [],
   "source": [
    "edge_frame.description.apply(lambda x: x.split()(['Varna', 'Варна'])"
   ]
  },
  {
   "cell_type": "code",
   "execution_count": null,
   "metadata": {},
   "outputs": [],
   "source": [
    "len(edge_frame.description.value_counts())"
   ]
  },
  {
   "cell_type": "code",
   "execution_count": null,
   "metadata": {},
   "outputs": [],
   "source": [
    "edge_frame.groupby('source').description"
   ]
  },
  {
   "cell_type": "code",
   "execution_count": null,
   "metadata": {},
   "outputs": [],
   "source": [
    "len(edge_frame.source.unique())"
   ]
  },
  {
   "cell_type": "code",
   "execution_count": null,
   "metadata": {},
   "outputs": [],
   "source": [
    "edge_frame.groupby('source').description.describe()"
   ]
  },
  {
   "cell_type": "code",
   "execution_count": null,
   "metadata": {},
   "outputs": [],
   "source": [
    "for i, j in edge_frame.description.value_counts()[1:250].items():\n",
    "    if len(i.split(', ')) > 1:\n",
    "        print(i.split(', ')[1:])\n",
    "\n"
   ]
  },
  {
   "cell_type": "code",
   "execution_count": null,
   "metadata": {},
   "outputs": [],
   "source": [
    "list_of_places = list(edge_frame.description.unique()[1:])"
   ]
  },
  {
   "cell_type": "code",
   "execution_count": null,
   "metadata": {},
   "outputs": [],
   "source": [
    "list_of_places"
   ]
  },
  {
   "cell_type": "code",
   "execution_count": null,
   "metadata": {},
   "outputs": [],
   "source": [
    "sample = ' Vibes.bg'\n",
    "sample = '+'.join(sample.split())"
   ]
  },
  {
   "cell_type": "code",
   "execution_count": null,
   "metadata": {},
   "outputs": [],
   "source": [
    "print('Googling...') # display text while downloading the Google page\n",
    "res = requests.get('https://www.google.com/maps?q=' + sample)\n",
    "coordinates = re.findall(r\"(https://maps\\.google\\.com/maps/api/staticmap\\?center=)(?P<latitude>\\d{1,3}\\.\\d*).*\\D+(?P<longitude>\\d{1,3}\\.\\d*)\", res.text)\n",
    "print(coordinates[0][1:3])\n"
   ]
  },
  {
   "cell_type": "code",
   "execution_count": null,
   "metadata": {},
   "outputs": [],
   "source": [
    "coordinates[0][1:3]"
   ]
  },
  {
   "cell_type": "code",
   "execution_count": null,
   "metadata": {},
   "outputs": [],
   "source": [
    "res.text"
   ]
  },
  {
   "cell_type": "code",
   "execution_count": null,
   "metadata": {},
   "outputs": [],
   "source": [
    "soup = bs4.BeautifulSoup(res.text)"
   ]
  },
  {
   "cell_type": "code",
   "execution_count": null,
   "metadata": {},
   "outputs": [],
   "source": [
    "linkElems = soup.select('.r a')"
   ]
  },
  {
   "cell_type": "code",
   "execution_count": null,
   "metadata": {},
   "outputs": [],
   "source": [
    "asd = re.findall(r\"(;window\\.APP_INITIALIZATION_STATE=\\[\\[\\[\\d*\\.\\d*,)(\\d{1,3}\\.\\d{15},\\d{1,3}\\.\\d{15})\", res.text)"
   ]
  },
  {
   "cell_type": "code",
   "execution_count": null,
   "metadata": {},
   "outputs": [],
   "source": [
    "asd[0][1]"
   ]
  },
  {
   "cell_type": "code",
   "execution_count": null,
   "metadata": {},
   "outputs": [],
   "source": [
    "res.text.rfind(r\"(;window\\.APP_INITIALIZATION_STATE=\\[\\[\\[\\d*\\.\\d*,)(\\d{1,3}\\.\\d{15},\\d{1,3}\\.\\d{15})\")"
   ]
  },
  {
   "cell_type": "code",
   "execution_count": null,
   "metadata": {},
   "outputs": [],
   "source": [
    "list_of_places = list(ego_frame.description.unique()[1:])"
   ]
  },
  {
   "cell_type": "code",
   "execution_count": null,
   "metadata": {},
   "outputs": [],
   "source": [
    "for i in list_of_places:\n",
    "    i.strip()\n",
    "    '+'.join(i.split(' '))"
   ]
  },
  {
   "cell_type": "code",
   "execution_count": null,
   "metadata": {},
   "outputs": [],
   "source": [
    "list_of_places"
   ]
  },
  {
   "cell_type": "code",
   "execution_count": null,
   "metadata": {},
   "outputs": [],
   "source": [
    "ego_frame.description.unique()"
   ]
  },
  {
   "cell_type": "code",
   "execution_count": null,
   "metadata": {},
   "outputs": [],
   "source": [
    "def eval_results(x):\n",
    "    try:\n",
    "        return (x.latitude, x.longitude)\n",
    "    except:\n",
    "        return (None, None)\n",
    "\n",
    "df['CityCoordinates'] = df['city'].apply(geolocator.geocode, timeout=1000000).apply(lambda x"
   ]
  },
  {
   "cell_type": "code",
   "execution_count": null,
   "metadata": {},
   "outputs": [],
   "source": [
    "# disregard number of friends due to fluctuations during the data mining process\n",
    "edge_frame['unique_id'] = edge_frame.target + edge_frame.relationship + edge_frame.description"
   ]
  },
  {
   "cell_type": "code",
   "execution_count": null,
   "metadata": {},
   "outputs": [],
   "source": [
    "edge_frame.head()"
   ]
  },
  {
   "cell_type": "code",
   "execution_count": null,
   "metadata": {},
   "outputs": [],
   "source": [
    "edge_frame.num_friends = edge_frame.num_friends.str.strip()\n",
    "edge_frame.num_friends = edge_frame.num_friends.str.replace(',', '')"
   ]
  },
  {
   "cell_type": "code",
   "execution_count": null,
   "metadata": {},
   "outputs": [],
   "source": [
    "edge_frame.num_friends.head()"
   ]
  },
  {
   "cell_type": "code",
   "execution_count": null,
   "metadata": {},
   "outputs": [],
   "source": [
    "edge_frame.dtypes"
   ]
  },
  {
   "cell_type": "code",
   "execution_count": null,
   "metadata": {},
   "outputs": [],
   "source": [
    "edge_frame.num_friends = pd.to_numeric(edge_frame.num_friends, errors='coerce')"
   ]
  },
  {
   "cell_type": "code",
   "execution_count": null,
   "metadata": {},
   "outputs": [],
   "source": [
    "edge_frame.dtypes"
   ]
  },
  {
   "cell_type": "code",
   "execution_count": null,
   "metadata": {},
   "outputs": [],
   "source": [
    "len(edge_frame.unique_id.unique())"
   ]
  },
  {
   "cell_type": "code",
   "execution_count": null,
   "metadata": {},
   "outputs": [],
   "source": [
    "len(edge_frame.drop(.unique())"
   ]
  },
  {
   "cell_type": "code",
   "execution_count": null,
   "metadata": {
    "scrolled": true
   },
   "outputs": [],
   "source": [
    "# edge_frame[edge_frame.target=='Александър Иванов']"
   ]
  },
  {
   "cell_type": "code",
   "execution_count": null,
   "metadata": {},
   "outputs": [],
   "source": [
    "edge_frame[edge_frame.unique_id.isna()]"
   ]
  },
  {
   "cell_type": "code",
   "execution_count": null,
   "metadata": {},
   "outputs": [],
   "source": [
    "edge_frame['target_count'] = pd.Series(edge_frame.groupby('target').target.transform('count'))"
   ]
  },
  {
   "cell_type": "code",
   "execution_count": null,
   "metadata": {},
   "outputs": [],
   "source": [
    "edge_frame.head()"
   ]
  },
  {
   "cell_type": "code",
   "execution_count": null,
   "metadata": {},
   "outputs": [],
   "source": [
    "# separate duplicates in another df\n",
    "duplicates = edge_frame[edge_frame.target_count > 1].copy()\n",
    "\n",
    "# trim duplicates from working df\n",
    "edge_frame = edge_frame[edge_frame.target_count == 1]"
   ]
  },
  {
   "cell_type": "code",
   "execution_count": null,
   "metadata": {},
   "outputs": [],
   "source": [
    "# we know for a fact that all the first layer nodes are unique to each other\n",
    "# and their unique_id is different from the rest\n",
    "edge_frame = pd.concat([edge_frame, duplicates[(duplicates.relationship == 'Acquaintance\\nFriends') \\\n",
    "                                               | (duplicates.relationship == 'Friend\\nFriends')]])"
   ]
  },
  {
   "cell_type": "code",
   "execution_count": null,
   "metadata": {},
   "outputs": [],
   "source": [
    "edge_frame.tail()"
   ]
  },
  {
   "cell_type": "code",
   "execution_count": null,
   "metadata": {},
   "outputs": [],
   "source": [
    "# remove the unique values from the duplicates\n",
    "duplicates = duplicates[~((duplicates.relationship == 'Acquaintance\\nFriends') \\\n",
    "                                               | (duplicates.relationship == 'Friend\\nFriends'))]"
   ]
  },
  {
   "cell_type": "code",
   "execution_count": null,
   "metadata": {},
   "outputs": [],
   "source": [
    "duplicates.head()"
   ]
  },
  {
   "cell_type": "code",
   "execution_count": null,
   "metadata": {},
   "outputs": [],
   "source": [
    "mutual_friends = duplicates[(duplicates.description == ' mutual friends')]"
   ]
  },
  {
   "cell_type": "code",
   "execution_count": null,
   "metadata": {},
   "outputs": [],
   "source": [
    "mutual_friends[(mutual_friends.duplicated(keep=False)) & (mutual_friends.num_friends > 5)]"
   ]
  },
  {
   "cell_type": "code",
   "execution_count": null,
   "metadata": {},
   "outputs": [],
   "source": [
    "print('Unique names: ', len(mutual_friends.target.unique()))\n",
    "print('Unique IDs: ', len(mutual_friends.unique_id.unique()))"
   ]
  },
  {
   "cell_type": "code",
   "execution_count": null,
   "metadata": {},
   "outputs": [],
   "source": [
    "print('Unique names to remove: ', len(mutual_friends[(mutual_friends.duplicated(keep=False))].unique_id.unique()))"
   ]
  },
  {
   "cell_type": "code",
   "execution_count": null,
   "metadata": {},
   "outputs": [],
   "source": [
    "mutual_friends = mutual_friends[~(mutual_friends.duplicated(keep=False))]"
   ]
  },
  {
   "cell_type": "code",
   "execution_count": null,
   "metadata": {},
   "outputs": [],
   "source": [
    "print('Unique names: ', len(mutual_friends.target.unique()))\n",
    "print('Unique IDs: ', len(mutual_friends.unique_id.unique()))"
   ]
  },
  {
   "cell_type": "code",
   "execution_count": null,
   "metadata": {},
   "outputs": [],
   "source": [
    "mutual_friends[(mutual_friends.duplicated(keep=False))]"
   ]
  },
  {
   "cell_type": "code",
   "execution_count": null,
   "metadata": {},
   "outputs": [],
   "source": [
    "mutual_friends.relationship.value_counts()"
   ]
  },
  {
   "cell_type": "code",
   "execution_count": null,
   "metadata": {},
   "outputs": [],
   "source": [
    "mutual_friends[mutual_friends.target.isin(mutual_friends.unique_id)]"
   ]
  },
  {
   "cell_type": "code",
   "execution_count": null,
   "metadata": {},
   "outputs": [],
   "source": [
    "# add unique records to working frame\n",
    "edge_frame = pd.concat([edge_frame, mutual_friends])"
   ]
  },
  {
   "cell_type": "code",
   "execution_count": null,
   "metadata": {},
   "outputs": [],
   "source": [
    "# remove records from duplicate frame\n",
    "duplicates = duplicates[duplicates.description != ' mutual friends']"
   ]
  },
  {
   "cell_type": "code",
   "execution_count": null,
   "metadata": {},
   "outputs": [],
   "source": [
    "duplicates.relationship.value_counts().head(30)"
   ]
  },
  {
   "cell_type": "code",
   "execution_count": null,
   "metadata": {},
   "outputs": [],
   "source": [
    "duplicates[(duplicates.relationship == ' ')].target.value_counts()"
   ]
  },
  {
   "cell_type": "code",
   "execution_count": null,
   "metadata": {},
   "outputs": [],
   "source": [
    "non_friends = duplicates[(duplicates.relationship == 'Add Friend')]"
   ]
  },
  {
   "cell_type": "code",
   "execution_count": null,
   "metadata": {},
   "outputs": [],
   "source": [
    "non_friends = non_friends.drop(columns='num_friends')"
   ]
  },
  {
   "cell_type": "code",
   "execution_count": null,
   "metadata": {},
   "outputs": [],
   "source": [
    "non_friends[non_friends.duplicated(keep=False)]"
   ]
  },
  {
   "cell_type": "code",
   "execution_count": null,
   "metadata": {},
   "outputs": [],
   "source": [
    "non_friends[non_friends.duplicated(keep=False)].description.value_counts()"
   ]
  },
  {
   "cell_type": "code",
   "execution_count": null,
   "metadata": {},
   "outputs": [],
   "source": [
    "mutual_friends.target.value_counts()"
   ]
  },
  {
   "cell_type": "code",
   "execution_count": null,
   "metadata": {},
   "outputs": [],
   "source": [
    "mutual_friends['unique'].value_counts()"
   ]
  },
  {
   "cell_type": "code",
   "execution_count": null,
   "metadata": {},
   "outputs": [],
   "source": [
    "len(mutual_friends.target.unique())"
   ]
  },
  {
   "cell_type": "code",
   "execution_count": null,
   "metadata": {},
   "outputs": [],
   "source": [
    "len(mutual_friends['unique'].unique())"
   ]
  },
  {
   "cell_type": "code",
   "execution_count": null,
   "metadata": {},
   "outputs": [],
   "source": [
    "assert len(mutual_friends.target.unique()) >= len(mutual_friends['unique'].unique()), 'Duplicates detected!'"
   ]
  },
  {
   "cell_type": "code",
   "execution_count": null,
   "metadata": {},
   "outputs": [],
   "source": [
    "# len(edge_frame[(edge_frame['count'] == 1) & (edge_frame.target.isin(nodes_list))])"
   ]
  },
  {
   "cell_type": "code",
   "execution_count": null,
   "metadata": {},
   "outputs": [],
   "source": [
    "edge_frame[edge_frame.target=='Ivan Ivanov']"
   ]
  },
  {
   "cell_type": "code",
   "execution_count": null,
   "metadata": {},
   "outputs": [],
   "source": [
    "ego_frame = edge_frame[edge_frame.relationship=='Friend\\nFriends']"
   ]
  },
  {
   "cell_type": "code",
   "execution_count": null,
   "metadata": {},
   "outputs": [],
   "source": [
    "edge_frame[(edge_frame.target=='Yon Lazarova') & (edge_frame.descripion==' friends')]"
   ]
  },
  {
   "cell_type": "code",
   "execution_count": null,
   "metadata": {},
   "outputs": [],
   "source": [
    "ego_frame"
   ]
  },
  {
   "cell_type": "code",
   "execution_count": null,
   "metadata": {},
   "outputs": [],
   "source": [
    "edge_frame[edge_frame.target=='Polly Ivanova']"
   ]
  },
  {
   "cell_type": "code",
   "execution_count": null,
   "metadata": {},
   "outputs": [],
   "source": [
    "edge_frame[edge_frame.target.isin('Friend\\nFriends\\n')]"
   ]
  },
  {
   "cell_type": "code",
   "execution_count": null,
   "metadata": {},
   "outputs": [],
   "source": [
    "# with open(\"edgelist.txt\", encoding=\"UTF8\", mode='w') as file:\n",
    "#     for i in edge_tuples:\n",
    "#         file.write(f\"{i[0]} {i[1]}\\n\")"
   ]
  },
  {
   "cell_type": "code",
   "execution_count": null,
   "metadata": {},
   "outputs": [],
   "source": [
    "# G = nx.Graph()"
   ]
  },
  {
   "cell_type": "code",
   "execution_count": null,
   "metadata": {},
   "outputs": [],
   "source": [
    "# G.add_nodes_from(nodes)\n",
    "# G.add_edges_from(edge_tuples)"
   ]
  },
  {
   "cell_type": "code",
   "execution_count": null,
   "metadata": {
    "jupyter": {
     "outputs_hidden": true
    }
   },
   "outputs": [],
   "source": [
    "# nx.draw(G, with_labels=True)"
   ]
  },
  {
   "cell_type": "code",
   "execution_count": null,
   "metadata": {},
   "outputs": [],
   "source": [
    "# nx.draw(G, with_labels=False)"
   ]
  },
  {
   "cell_type": "code",
   "execution_count": null,
   "metadata": {},
   "outputs": [],
   "source": [
    "# graph.add_star('Павел Богданов')"
   ]
  },
  {
   "cell_type": "code",
   "execution_count": null,
   "metadata": {},
   "outputs": [],
   "source": [
    "graph = nx.Graph(edge_tuples)\n",
    "graph_copy = graph.copy()\n",
    "graph_copy_copy = graph.copy()\n",
    "empty_graph = nx.Graph()"
   ]
  },
  {
   "cell_type": "code",
   "execution_count": null,
   "metadata": {},
   "outputs": [],
   "source": [
    "# nx.write_graphml(graph, 'graph.graphml')"
   ]
  },
  {
   "cell_type": "code",
   "execution_count": null,
   "metadata": {},
   "outputs": [],
   "source": [
    "# for i, j in graph_copy.degree:\n",
    "#     if not i in nodes_list:\n",
    "#         graph.remove_node(i)\n",
    "\n",
    "\n",
    "\n",
    "\n",
    "\n",
    "# for i, j in graph_copy_copy.degree:\n",
    "#     if i not in nodes_list:\n",
    "#         graph_copy.remove_node(i)\n",
    "#     if j > 10:\n",
    "#         graph_copy.add_node(i)\n",
    "# for i, j in graph_copy_copy.edges:\n",
    "#     if i not in nodes_list or j not in nodes_list:\n",
    "#         graph_copy.add_edge(i, j)"
   ]
  },
  {
   "cell_type": "code",
   "execution_count": null,
   "metadata": {},
   "outputs": [],
   "source": [
    "# for i, j in graph_copy.degree:\n",
    "#     if not i in nodes_list:\n",
    "#         graph.remove_node(i)\n",
    "\n",
    "# for i, j in graph_copy_copy.degree:\n",
    "#     if j <= 10:\n",
    "#         graph_copy.remove_node(i)\n",
    "# for i in graph_copy_copy.nodes:\n",
    "#     if i in nodes_list:\n",
    "#         graph_copy.remove_node(i)"
   ]
  },
  {
   "cell_type": "code",
   "execution_count": null,
   "metadata": {},
   "outputs": [],
   "source": [
    "print(nx.info(graph))"
   ]
  },
  {
   "cell_type": "code",
   "execution_count": null,
   "metadata": {},
   "outputs": [],
   "source": [
    "for i, j in graph_copy.degree:\n",
    "    if not i in nodes_list:\n",
    "        graph.remove_node(i)\n"
   ]
  },
  {
   "cell_type": "code",
   "execution_count": null,
   "metadata": {},
   "outputs": [],
   "source": [
    "for edge in graph_copy.edges:\n",
    "    if \"Павел Богданов\" in edge:\n",
    "        empty_graph.add_edge(edge[0], edge[1])\n"
   ]
  },
  {
   "cell_type": "code",
   "execution_count": null,
   "metadata": {},
   "outputs": [],
   "source": [
    "# Difference is due to inactive accounts\n",
    "# that are still in my list of friends but don't exist\n",
    "# and I didn't add them to the node_list\n",
    "print(len(graph), len(empty_graph))"
   ]
  },
  {
   "cell_type": "code",
   "execution_count": null,
   "metadata": {},
   "outputs": [],
   "source": [
    "my_edges = []\n",
    "for node in nodes_list:\n",
    "    my_edges.append(('Павел Богданов', node))"
   ]
  },
  {
   "cell_type": "code",
   "execution_count": null,
   "metadata": {},
   "outputs": [],
   "source": [
    "# hub_ego = nx.ego_graph(graph, \"Павел Богданов\", radius=1)\n",
    "# pos = nx.spring_layout(hub_ego, seed=1, iterations=100, dim=3)\n",
    "# asd = {}\n",
    "# for i, j in pos.items():\n",
    "#     asd[i] = j[1:]\n",
    "# pos = asd"
   ]
  },
  {
   "cell_type": "code",
   "execution_count": null,
   "metadata": {},
   "outputs": [],
   "source": [
    "[100*degree[1] for degree in hub_ego.degree]"
   ]
  },
  {
   "cell_type": "code",
   "execution_count": null,
   "metadata": {},
   "outputs": [],
   "source": [
    "\n",
    "[hub_ego.degree(node) for node in hub_ego.nodes()]\n"
   ]
  },
  {
   "cell_type": "code",
   "execution_count": null,
   "metadata": {
    "scrolled": false
   },
   "outputs": [],
   "source": [
    "plt.figure(figsize=(125,85))\n",
    "hub_ego = nx.ego_graph(graph, \"Павел Богданов\", radius=1)\n",
    "pos = nx.spring_layout(hub_ego, seed=1)\n",
    "\n",
    "\n",
    "nx.draw_networkx_labels(hub_ego, pos, alpha=0.8, font_size=17)\n",
    "nx.draw_networkx_edges(hub_ego, pos, edge_color='c', alpha=0.7, width=1.7)\n",
    "nx.draw_networkx_edges(hub_ego, pos, edgelist=my_edges, edge_color='b', alpha=0.8, width=2)\n",
    "\n",
    "nodes = nx.draw_networkx_nodes(hub_ego, pos, nodelist=nodes_list, node_color='r', cmap=plt.cm.Blues, alpha=1, node_size=700, edgecolors='k')\n",
    "\n",
    "\n",
    "plt.axis('off')\n",
    "plt.savefig('blob18.png')\n",
    "plt.show()"
   ]
  },
  {
   "cell_type": "code",
   "execution_count": null,
   "metadata": {},
   "outputs": [],
   "source": [
    "temp = nx.Graph(edge_tuples)"
   ]
  },
  {
   "cell_type": "code",
   "execution_count": null,
   "metadata": {},
   "outputs": [],
   "source": [
    "nx.write_gexf(temp, 'full_graph.gexf')"
   ]
  },
  {
   "cell_type": "code",
   "execution_count": null,
   "metadata": {
    "jupyter": {
     "outputs_hidden": true
    },
    "scrolled": false
   },
   "outputs": [],
   "source": [
    "# plt.figure(figsize=(250,170))\n",
    "# random.seed(42)\n",
    "# np.random.seed(42)\n",
    "\n",
    "# pos = nx.spring_layout(graph, seed=1)\n",
    "\n",
    "\n",
    "# nx.draw_networkx_labels(graph, pos, alpha=0.8)\n",
    "# nx.draw_networkx_edges(graph, pos, edge_color='c', alpha=0.7, width=2, node_size=500)\n",
    "# nx.draw_networkx_edges(graph, pos, edgelist=my_edges, edge_color='b', alpha=0.8, width=2, node_size=500)\n",
    "# nodes = nx.draw_networkx_nodes(graph, pos, nodelist=nodes_list, node_color='r', alpha=1, node_size=1000, edgecolors='k')\n",
    "\n",
    "\n",
    "        \n",
    "# pos = nx.spring_layout(graph_copy, seed=1)\n",
    "# nodes = nx.draw_networkx_nodes(graph_copy, pos, node_color='g', node_size=42, alpha=0.7)\n",
    "# nodes.set_edgecolor('k')\n",
    "# nx.draw_networkx_labels(graph_copy, pos, alpha=0.7)\n",
    "# nx.draw_networkx_edges(graph_copy, pos, edge_color='c', alpha=0.7, node_size=42)\n",
    "\n",
    "\n",
    "# plt.axis('off')\n",
    "# plt.savefig('blob17.png')\n",
    "# plt.show()"
   ]
  },
  {
   "cell_type": "code",
   "execution_count": null,
   "metadata": {
    "scrolled": true
   },
   "outputs": [],
   "source": [
    "# P = Network()\n",
    "# P.from_nx(graph)"
   ]
  },
  {
   "cell_type": "code",
   "execution_count": null,
   "metadata": {},
   "outputs": [],
   "source": [
    "numbers = [int(i) for i in input().split(', ')]\n",
    "beggars = int(input())"
   ]
  },
  {
   "cell_type": "code",
   "execution_count": null,
   "metadata": {},
   "outputs": [],
   "source": [
    "result = list()\n",
    "for beggar in range(beggars):\n",
    "    cash = 0\n",
    "    for number in numbers[beggar::beggars]:\n",
    "        cash += number\n",
    "    result.append(cash)"
   ]
  },
  {
   "cell_type": "code",
   "execution_count": null,
   "metadata": {},
   "outputs": [],
   "source": [
    "print(result)"
   ]
  },
  {
   "cell_type": "code",
   "execution_count": null,
   "metadata": {},
   "outputs": [],
   "source": []
  },
  {
   "cell_type": "code",
   "execution_count": null,
   "metadata": {},
   "outputs": [],
   "source": [
    "pathlengths=[]\n",
    "\n",
    "print(\"source vertex {target:length, }\")\n",
    "for v in graph.nodes():\n",
    "    spl=single_source_shortest_path_length(graph,v)\n",
    "    print('%s %s' % (graph,spl))\n",
    "    for p in spl.values():\n",
    "        pathlengths.append(p)\n",
    "\n",
    "print('')\n",
    "print(\"average shortest path length %s\" % (sum(pathlengths)/len(pathlengths)))\n",
    "\n",
    "# histogram of path lengths\n",
    "dist={}\n",
    "for p in pathlengths:\n",
    "    if p in dist:\n",
    "        dist[p]+=1\n",
    "    else:\n",
    "        dist[p]=1\n",
    "\n",
    "print('')\n",
    "print(\"length #paths\")\n",
    "verts=dist.keys()\n",
    "for d in sorted(verts):\n",
    "    print('%s %d' % (d,dist[d]))\n",
    "\n",
    "print(\"radius: %d\" % radius(graph))\n",
    "print(\"diameter: %d\" % diameter(graph))\n",
    "print(\"eccentricity: %s\" % eccentricity(graph))\n",
    "print(\"center: %s\" % center(graph))\n",
    "print(\"periphery: %s\" % periphery(graph))\n",
    "print(\"density: %s\" % density(graph))"
   ]
  }
 ],
 "metadata": {
  "kernelspec": {
   "display_name": "Python 3",
   "language": "python",
   "name": "python3"
  },
  "language_info": {
   "codemirror_mode": {
    "name": "ipython",
    "version": 3
   },
   "file_extension": ".py",
   "mimetype": "text/x-python",
   "name": "python",
   "nbconvert_exporter": "python",
   "pygments_lexer": "ipython3",
   "version": "3.7.4"
  }
 },
 "nbformat": 4,
 "nbformat_minor": 4
}
